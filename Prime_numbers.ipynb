{
 "cells": [
  {
   "cell_type": "markdown",
   "metadata": {},
   "source": [
    "# Prime numbers\n",
    "Part of my homework ;)\n",
    "\n",
    "It's Staś here :)"
   ]
  },
  {
   "cell_type": "code",
   "execution_count": 1,
   "metadata": {
    "collapsed": true
   },
   "outputs": [],
   "source": [
    "#let's define range of numbers to check\n",
    "start = 1\n",
    "stop = 140"
   ]
  },
  {
   "cell_type": "code",
   "execution_count": 2,
   "metadata": {},
   "outputs": [],
   "source": [
    "# here is the function which loop along numbers_2_check and check if they could be divided \n",
    "# by any number different than 1 and the number_2_check itself\n",
    "def prime_nums(start,stop): \n",
    "    output = list(range(start,stop+1))\n",
    "    for nb in range(start,stop+1,1):\n",
    "        for nb_next in range(2,nb,1):\n",
    "            if nb%nb_next == 0:\n",
    "                output.remove(nb)\n",
    "                break\n",
    "    print('There are ' + str(len(output)) + ' prime numbers')\n",
    "    return output"
   ]
  },
  {
   "cell_type": "code",
   "execution_count": 3,
   "metadata": {},
   "outputs": [
    {
     "name": "stdout",
     "output_type": "stream",
     "text": [
      "There are 35 prime numbers\n",
      "[1, 2, 3, 5, 7, 11, 13, 17, 19, 23, 29, 31, 37, 41, 43, 47, 53, 59, 61, 67, 71, 73, 79, 83, 89, 97, 101, 103, 107, 109, 113, 127, 131, 137, 139]\n"
     ]
    }
   ],
   "source": [
    "prime_nb_list = prime_nums(start,stop)\n",
    "print(prime_nb_list)"
   ]
  },
  {
   "cell_type": "code",
   "execution_count": null,
   "metadata": {
    "collapsed": true
   },
   "outputs": [],
   "source": []
  }
 ],
 "metadata": {
  "kernelspec": {
   "display_name": "Python 3",
   "language": "python",
   "name": "python3"
  },
  "language_info": {
   "codemirror_mode": {
    "name": "ipython",
    "version": 3
   },
   "file_extension": ".py",
   "mimetype": "text/x-python",
   "name": "python",
   "nbconvert_exporter": "python",
   "pygments_lexer": "ipython3",
   "version": "3.6.1"
  }
 },
 "nbformat": 4,
 "nbformat_minor": 2
}
